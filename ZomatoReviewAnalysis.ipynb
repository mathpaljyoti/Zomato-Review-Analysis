{
  "cells": [
    {
      "cell_type": "code",
      "execution_count": null,
      "metadata": {
        "id": "Vf04rzYlOagE"
      },
      "outputs": [],
      "source": [
        "import numpy as np\n",
        "import matplotlib.pyplot as plt\n",
        "import pandas as pd"
      ]
    },
    {
      "cell_type": "code",
      "execution_count": null,
      "metadata": {
        "colab": {
          "base_uri": "https://localhost:8080/",
          "height": 90
        },
        "id": "PxYfUq8BO3AP",
        "outputId": "7d09eaf9-6bfd-43ef-9802-81e4219da842"
      },
      "outputs": [
        {
          "data": {
            "text/html": [
              "\n",
              "     <input type=\"file\" id=\"files-3c2533ea-09e1-4e48-aac3-032d0088c1cf\" name=\"files[]\" multiple disabled\n",
              "        style=\"border:none\" />\n",
              "     <output id=\"result-3c2533ea-09e1-4e48-aac3-032d0088c1cf\">\n",
              "      Upload widget is only available when the cell has been executed in the\n",
              "      current browser session. Please rerun this cell to enable.\n",
              "      </output>\n",
              "      <script>// Copyright 2017 Google LLC\n",
              "//\n",
              "// Licensed under the Apache License, Version 2.0 (the \"License\");\n",
              "// you may not use this file except in compliance with the License.\n",
              "// You may obtain a copy of the License at\n",
              "//\n",
              "//      http://www.apache.org/licenses/LICENSE-2.0\n",
              "//\n",
              "// Unless required by applicable law or agreed to in writing, software\n",
              "// distributed under the License is distributed on an \"AS IS\" BASIS,\n",
              "// WITHOUT WARRANTIES OR CONDITIONS OF ANY KIND, either express or implied.\n",
              "// See the License for the specific language governing permissions and\n",
              "// limitations under the License.\n",
              "\n",
              "/**\n",
              " * @fileoverview Helpers for google.colab Python module.\n",
              " */\n",
              "(function(scope) {\n",
              "function span(text, styleAttributes = {}) {\n",
              "  const element = document.createElement('span');\n",
              "  element.textContent = text;\n",
              "  for (const key of Object.keys(styleAttributes)) {\n",
              "    element.style[key] = styleAttributes[key];\n",
              "  }\n",
              "  return element;\n",
              "}\n",
              "\n",
              "// Max number of bytes which will be uploaded at a time.\n",
              "const MAX_PAYLOAD_SIZE = 100 * 1024;\n",
              "\n",
              "function _uploadFiles(inputId, outputId) {\n",
              "  const steps = uploadFilesStep(inputId, outputId);\n",
              "  const outputElement = document.getElementById(outputId);\n",
              "  // Cache steps on the outputElement to make it available for the next call\n",
              "  // to uploadFilesContinue from Python.\n",
              "  outputElement.steps = steps;\n",
              "\n",
              "  return _uploadFilesContinue(outputId);\n",
              "}\n",
              "\n",
              "// This is roughly an async generator (not supported in the browser yet),\n",
              "// where there are multiple asynchronous steps and the Python side is going\n",
              "// to poll for completion of each step.\n",
              "// This uses a Promise to block the python side on completion of each step,\n",
              "// then passes the result of the previous step as the input to the next step.\n",
              "function _uploadFilesContinue(outputId) {\n",
              "  const outputElement = document.getElementById(outputId);\n",
              "  const steps = outputElement.steps;\n",
              "\n",
              "  const next = steps.next(outputElement.lastPromiseValue);\n",
              "  return Promise.resolve(next.value.promise).then((value) => {\n",
              "    // Cache the last promise value to make it available to the next\n",
              "    // step of the generator.\n",
              "    outputElement.lastPromiseValue = value;\n",
              "    return next.value.response;\n",
              "  });\n",
              "}\n",
              "\n",
              "/**\n",
              " * Generator function which is called between each async step of the upload\n",
              " * process.\n",
              " * @param {string} inputId Element ID of the input file picker element.\n",
              " * @param {string} outputId Element ID of the output display.\n",
              " * @return {!Iterable<!Object>} Iterable of next steps.\n",
              " */\n",
              "function* uploadFilesStep(inputId, outputId) {\n",
              "  const inputElement = document.getElementById(inputId);\n",
              "  inputElement.disabled = false;\n",
              "\n",
              "  const outputElement = document.getElementById(outputId);\n",
              "  outputElement.innerHTML = '';\n",
              "\n",
              "  const pickedPromise = new Promise((resolve) => {\n",
              "    inputElement.addEventListener('change', (e) => {\n",
              "      resolve(e.target.files);\n",
              "    });\n",
              "  });\n",
              "\n",
              "  const cancel = document.createElement('button');\n",
              "  inputElement.parentElement.appendChild(cancel);\n",
              "  cancel.textContent = 'Cancel upload';\n",
              "  const cancelPromise = new Promise((resolve) => {\n",
              "    cancel.onclick = () => {\n",
              "      resolve(null);\n",
              "    };\n",
              "  });\n",
              "\n",
              "  // Wait for the user to pick the files.\n",
              "  const files = yield {\n",
              "    promise: Promise.race([pickedPromise, cancelPromise]),\n",
              "    response: {\n",
              "      action: 'starting',\n",
              "    }\n",
              "  };\n",
              "\n",
              "  cancel.remove();\n",
              "\n",
              "  // Disable the input element since further picks are not allowed.\n",
              "  inputElement.disabled = true;\n",
              "\n",
              "  if (!files) {\n",
              "    return {\n",
              "      response: {\n",
              "        action: 'complete',\n",
              "      }\n",
              "    };\n",
              "  }\n",
              "\n",
              "  for (const file of files) {\n",
              "    const li = document.createElement('li');\n",
              "    li.append(span(file.name, {fontWeight: 'bold'}));\n",
              "    li.append(span(\n",
              "        `(${file.type || 'n/a'}) - ${file.size} bytes, ` +\n",
              "        `last modified: ${\n",
              "            file.lastModifiedDate ? file.lastModifiedDate.toLocaleDateString() :\n",
              "                                    'n/a'} - `));\n",
              "    const percent = span('0% done');\n",
              "    li.appendChild(percent);\n",
              "\n",
              "    outputElement.appendChild(li);\n",
              "\n",
              "    const fileDataPromise = new Promise((resolve) => {\n",
              "      const reader = new FileReader();\n",
              "      reader.onload = (e) => {\n",
              "        resolve(e.target.result);\n",
              "      };\n",
              "      reader.readAsArrayBuffer(file);\n",
              "    });\n",
              "    // Wait for the data to be ready.\n",
              "    let fileData = yield {\n",
              "      promise: fileDataPromise,\n",
              "      response: {\n",
              "        action: 'continue',\n",
              "      }\n",
              "    };\n",
              "\n",
              "    // Use a chunked sending to avoid message size limits. See b/62115660.\n",
              "    let position = 0;\n",
              "    do {\n",
              "      const length = Math.min(fileData.byteLength - position, MAX_PAYLOAD_SIZE);\n",
              "      const chunk = new Uint8Array(fileData, position, length);\n",
              "      position += length;\n",
              "\n",
              "      const base64 = btoa(String.fromCharCode.apply(null, chunk));\n",
              "      yield {\n",
              "        response: {\n",
              "          action: 'append',\n",
              "          file: file.name,\n",
              "          data: base64,\n",
              "        },\n",
              "      };\n",
              "\n",
              "      let percentDone = fileData.byteLength === 0 ?\n",
              "          100 :\n",
              "          Math.round((position / fileData.byteLength) * 100);\n",
              "      percent.textContent = `${percentDone}% done`;\n",
              "\n",
              "    } while (position < fileData.byteLength);\n",
              "  }\n",
              "\n",
              "  // All done.\n",
              "  yield {\n",
              "    response: {\n",
              "      action: 'complete',\n",
              "    }\n",
              "  };\n",
              "}\n",
              "\n",
              "scope.google = scope.google || {};\n",
              "scope.google.colab = scope.google.colab || {};\n",
              "scope.google.colab._files = {\n",
              "  _uploadFiles,\n",
              "  _uploadFilesContinue,\n",
              "};\n",
              "})(self);\n",
              "</script> "
            ],
            "text/plain": [
              "<IPython.core.display.HTML object>"
            ]
          },
          "metadata": {},
          "output_type": "display_data"
        },
        {
          "name": "stdout",
          "output_type": "stream",
          "text": [
            "Saving kaggle.json to kaggle (1).json\n"
          ]
        },
        {
          "data": {
            "text/plain": [
              "{'kaggle (1).json': b'{\"username\":\"jyotimathpal\",\"key\":\"689e83873030fd7a83bc914093d764a4\"}'}"
            ]
          },
          "execution_count": 3,
          "metadata": {},
          "output_type": "execute_result"
        }
      ],
      "source": [
        "from google.colab import files\n",
        "files.upload()  # Choose kaggle.json from your local system\n"
      ]
    },
    {
      "cell_type": "code",
      "execution_count": null,
      "metadata": {
        "id": "Xp_zVINXGvg3"
      },
      "outputs": [],
      "source": [
        "!mkdir -p ~/.kaggle\n",
        "!cp kaggle.json ~/.kaggle/\n",
        "!chmod 600 ~/.kaggle/kaggle.json\n"
      ]
    },
    {
      "cell_type": "code",
      "execution_count": null,
      "metadata": {
        "colab": {
          "base_uri": "https://localhost:8080/"
        },
        "id": "d5pph--lG2UB",
        "outputId": "b6266d03-0c8d-4718-fe8d-aaced963a2ba"
      },
      "outputs": [
        {
          "name": "stdout",
          "output_type": "stream",
          "text": [
            "Warning: Looks like you're using an outdated API Version, please consider updating (server 1.7.4.2 / client 1.6.17)\n",
            "Dataset URL: https://www.kaggle.com/datasets/prepinstaprime/tomato-reviews\n",
            "License(s): CC0-1.0\n",
            "Downloading tomato-reviews.zip to /content\n",
            " 74% 66.0M/89.0M [00:00<00:00, 116MB/s]\n",
            "100% 89.0M/89.0M [00:00<00:00, 128MB/s]\n"
          ]
        }
      ],
      "source": [
        "!kaggle datasets download -d prepinstaprime/tomato-reviews\n"
      ]
    },
    {
      "cell_type": "code",
      "execution_count": null,
      "metadata": {
        "colab": {
          "base_uri": "https://localhost:8080/"
        },
        "id": "xddjdyXwG5U0",
        "outputId": "b6cb3808-5ef9-4bcb-9812-1ebe421c6ab1"
      },
      "outputs": [
        {
          "name": "stdout",
          "output_type": "stream",
          "text": [
            "Archive:  tomato-reviews.zip\n",
            "  inflating: zomato.csv              \n"
          ]
        }
      ],
      "source": [
        "!unzip tomato-reviews.zip\n"
      ]
    },
    {
      "cell_type": "code",
      "execution_count": null,
      "metadata": {
        "colab": {
          "base_uri": "https://localhost:8080/"
        },
        "id": "oqWHtnkxG8tq",
        "outputId": "982ee8f9-b687-46de-a699-000291653cba"
      },
      "outputs": [
        {
          "name": "stdout",
          "output_type": "stream",
          "text": [
            "'kaggle (1).json'   kaggle.json   sample_data   tomato-reviews.zip   zomato.csv\n"
          ]
        }
      ],
      "source": [
        "!ls\n"
      ]
    },
    {
      "cell_type": "code",
      "execution_count": null,
      "metadata": {
        "colab": {
          "base_uri": "https://localhost:8080/"
        },
        "id": "Dpo417-bHBe6",
        "outputId": "da0d151d-2b5f-4357-ee77-d96c0f6da5b0"
      },
      "outputs": [
        {
          "name": "stdout",
          "output_type": "stream",
          "text": [
            "                                                 url  \\\n",
            "0  https://www.zomato.com/bangalore/jalsa-banasha...   \n",
            "1  https://www.zomato.com/bangalore/spice-elephan...   \n",
            "2  https://www.zomato.com/SanchurroBangalore?cont...   \n",
            "3  https://www.zomato.com/bangalore/addhuri-udupi...   \n",
            "4  https://www.zomato.com/bangalore/grand-village...   \n",
            "\n",
            "                                             address                   name  \\\n",
            "0  942, 21st Main Road, 2nd Stage, Banashankari, ...                  Jalsa   \n",
            "1  2nd Floor, 80 Feet Road, Near Big Bazaar, 6th ...         Spice Elephant   \n",
            "2  1112, Next to KIMS Medical College, 17th Cross...        San Churro Cafe   \n",
            "3  1st Floor, Annakuteera, 3rd Stage, Banashankar...  Addhuri Udupi Bhojana   \n",
            "4  10, 3rd Floor, Lakshmi Associates, Gandhi Baza...          Grand Village   \n",
            "\n",
            "  online_order book_table   rate  votes                             phone  \\\n",
            "0          Yes        Yes  4.1/5    775    080 42297555\\r\\n+91 9743772233   \n",
            "1          Yes         No  4.1/5    787                      080 41714161   \n",
            "2          Yes         No  3.8/5    918                    +91 9663487993   \n",
            "3           No         No  3.7/5     88                    +91 9620009302   \n",
            "4           No         No  3.8/5    166  +91 8026612447\\r\\n+91 9901210005   \n",
            "\n",
            "       location            rest_type  \\\n",
            "0  Banashankari        Casual Dining   \n",
            "1  Banashankari        Casual Dining   \n",
            "2  Banashankari  Cafe, Casual Dining   \n",
            "3  Banashankari          Quick Bites   \n",
            "4  Basavanagudi        Casual Dining   \n",
            "\n",
            "                                          dish_liked  \\\n",
            "0  Pasta, Lunch Buffet, Masala Papad, Paneer Laja...   \n",
            "1  Momos, Lunch Buffet, Chocolate Nirvana, Thai G...   \n",
            "2  Churros, Cannelloni, Minestrone Soup, Hot Choc...   \n",
            "3                                        Masala Dosa   \n",
            "4                                Panipuri, Gol Gappe   \n",
            "\n",
            "                         cuisines approx_cost(for two people)  \\\n",
            "0  North Indian, Mughlai, Chinese                         800   \n",
            "1     Chinese, North Indian, Thai                         800   \n",
            "2          Cafe, Mexican, Italian                         800   \n",
            "3      South Indian, North Indian                         300   \n",
            "4        North Indian, Rajasthani                         600   \n",
            "\n",
            "                                        reviews_list menu_item  \\\n",
            "0  [('Rated 4.0', 'RATED\\n  A beautiful place to ...        []   \n",
            "1  [('Rated 4.0', 'RATED\\n  Had been here for din...        []   \n",
            "2  [('Rated 3.0', \"RATED\\n  Ambience is not that ...        []   \n",
            "3  [('Rated 4.0', \"RATED\\n  Great food and proper...        []   \n",
            "4  [('Rated 4.0', 'RATED\\n  Very good restaurant ...        []   \n",
            "\n",
            "  listed_in(type) listed_in(city)  \n",
            "0          Buffet    Banashankari  \n",
            "1          Buffet    Banashankari  \n",
            "2          Buffet    Banashankari  \n",
            "3          Buffet    Banashankari  \n",
            "4          Buffet    Banashankari  \n"
          ]
        }
      ],
      "source": [
        "df = pd.read_csv(\"zomato.csv\")\n",
        "print(df.head())"
      ]
    },
    {
      "cell_type": "code",
      "execution_count": null,
      "metadata": {
        "colab": {
          "base_uri": "https://localhost:8080/"
        },
        "id": "DTsFDF4IHNBe",
        "outputId": "320f25cb-459a-4282-fbf1-f2ad62385b4d",
        "collapsed": true
      },
      "outputs": [
        {
          "name": "stdout",
          "output_type": "stream",
          "text": [
            "<class 'pandas.core.frame.DataFrame'>\n",
            "RangeIndex: 51717 entries, 0 to 51716\n",
            "Data columns (total 17 columns):\n",
            " #   Column                       Non-Null Count  Dtype \n",
            "---  ------                       --------------  ----- \n",
            " 0   url                          51717 non-null  object\n",
            " 1   address                      51717 non-null  object\n",
            " 2   name                         51717 non-null  object\n",
            " 3   online_order                 51717 non-null  object\n",
            " 4   book_table                   51717 non-null  object\n",
            " 5   rate                         43942 non-null  object\n",
            " 6   votes                        51717 non-null  int64 \n",
            " 7   phone                        50509 non-null  object\n",
            " 8   location                     51696 non-null  object\n",
            " 9   rest_type                    51490 non-null  object\n",
            " 10  dish_liked                   23639 non-null  object\n",
            " 11  cuisines                     51672 non-null  object\n",
            " 12  approx_cost(for two people)  51371 non-null  object\n",
            " 13  reviews_list                 51717 non-null  object\n",
            " 14  menu_item                    51717 non-null  object\n",
            " 15  listed_in(type)              51717 non-null  object\n",
            " 16  listed_in(city)              51717 non-null  object\n",
            "dtypes: int64(1), object(16)\n",
            "memory usage: 6.7+ MB\n",
            "None\n",
            "url                                0\n",
            "address                            0\n",
            "name                               0\n",
            "online_order                       0\n",
            "book_table                         0\n",
            "rate                            7775\n",
            "votes                              0\n",
            "phone                           1208\n",
            "location                          21\n",
            "rest_type                        227\n",
            "dish_liked                     28078\n",
            "cuisines                          45\n",
            "approx_cost(for two people)      346\n",
            "reviews_list                       0\n",
            "menu_item                          0\n",
            "listed_in(type)                    0\n",
            "listed_in(city)                    0\n",
            "dtype: int64\n",
            "              votes\n",
            "count  51717.000000\n",
            "mean     283.697527\n",
            "std      803.838853\n",
            "min        0.000000\n",
            "25%        7.000000\n",
            "50%       41.000000\n",
            "75%      198.000000\n",
            "max    16832.000000\n"
          ]
        }
      ],
      "source": [
        "# Get basic info about the data\n",
        "print(df.info())\n",
        "\n",
        "# Check for missing values\n",
        "print(df.isnull().sum())\n",
        "\n",
        "# Display a summary of the dataset\n",
        "print(df.describe())\n"
      ]
    },
    {
      "cell_type": "code",
      "execution_count": null,
      "metadata": {
        "colab": {
          "base_uri": "https://localhost:8080/"
        },
        "id": "jnCo1M0ZHTPx",
        "outputId": "f46a47a3-95a0-47e6-ab83-20b72d636169",
        "collapsed": true
      },
      "outputs": [
        {
          "name": "stdout",
          "output_type": "stream",
          "text": [
            "                    name online_order book_table   rate  votes      location  \\\n",
            "0                  Jalsa          Yes        Yes  4.1/5    775  Banashankari   \n",
            "1         Spice Elephant          Yes         No  4.1/5    787  Banashankari   \n",
            "2        San Churro Cafe          Yes         No  3.8/5    918  Banashankari   \n",
            "3  Addhuri Udupi Bhojana           No         No  3.7/5     88  Banashankari   \n",
            "4          Grand Village           No         No  3.8/5    166  Basavanagudi   \n",
            "\n",
            "             rest_type                                         dish_liked  \\\n",
            "0        Casual Dining  Pasta, Lunch Buffet, Masala Papad, Paneer Laja...   \n",
            "1        Casual Dining  Momos, Lunch Buffet, Chocolate Nirvana, Thai G...   \n",
            "2  Cafe, Casual Dining  Churros, Cannelloni, Minestrone Soup, Hot Choc...   \n",
            "3          Quick Bites                                        Masala Dosa   \n",
            "4        Casual Dining                                Panipuri, Gol Gappe   \n",
            "\n",
            "                         cuisines approx_cost(for two people)  \\\n",
            "0  North Indian, Mughlai, Chinese                         800   \n",
            "1     Chinese, North Indian, Thai                         800   \n",
            "2          Cafe, Mexican, Italian                         800   \n",
            "3      South Indian, North Indian                         300   \n",
            "4        North Indian, Rajasthani                         600   \n",
            "\n",
            "                                        reviews_list  \n",
            "0  [('Rated 4.0', 'RATED\\n  A beautiful place to ...  \n",
            "1  [('Rated 4.0', 'RATED\\n  Had been here for din...  \n",
            "2  [('Rated 3.0', \"RATED\\n  Ambience is not that ...  \n",
            "3  [('Rated 4.0', \"RATED\\n  Great food and proper...  \n",
            "4  [('Rated 4.0', 'RATED\\n  Very good restaurant ...  \n"
          ]
        }
      ],
      "source": [
        "# Dropping unnecessary columns\n",
        "df = df.drop(['url', 'address', 'phone', 'menu_item', 'listed_in(type)', 'listed_in(city)'], axis=1)\n",
        "\n",
        "# Displaying the cleaned data\n",
        "print(df.head())\n"
      ]
    },
    {
      "cell_type": "code",
      "execution_count": null,
      "metadata": {
        "colab": {
          "base_uri": "https://localhost:8080/"
        },
        "id": "PG-0roc8Jxty",
        "outputId": "ac99f438-0063-4c46-fbde-9cba269e78ed",
        "collapsed": true
      },
      "outputs": [
        {
          "name": "stdout",
          "output_type": "stream",
          "text": [
            "0    4.1\n",
            "1    4.1\n",
            "2    3.8\n",
            "3    3.7\n",
            "4    3.8\n",
            "Name: rate, dtype: float64\n"
          ]
        },
        {
          "name": "stderr",
          "output_type": "stream",
          "text": [
            "<ipython-input-11-66e4095e47e3>:3: FutureWarning: A value is trying to be set on a copy of a DataFrame or Series through chained assignment using an inplace method.\n",
            "The behavior will change in pandas 3.0. This inplace method will never work because the intermediate object on which we are setting values always behaves as a copy.\n",
            "\n",
            "For example, when doing 'df[col].method(value, inplace=True)', try using 'df.method({col: value}, inplace=True)' or df[col] = df[col].method(value) instead, to perform the operation inplace on the original object.\n",
            "\n",
            "\n",
            "  df['rate'].replace('NEW', np.nan, inplace=True)  # Replace 'NEW' with NaN\n",
            "<ipython-input-11-66e4095e47e3>:4: FutureWarning: A value is trying to be set on a copy of a DataFrame or Series through chained assignment using an inplace method.\n",
            "The behavior will change in pandas 3.0. This inplace method will never work because the intermediate object on which we are setting values always behaves as a copy.\n",
            "\n",
            "For example, when doing 'df[col].method(value, inplace=True)', try using 'df.method({col: value}, inplace=True)' or df[col] = df[col].method(value) instead, to perform the operation inplace on the original object.\n",
            "\n",
            "\n",
            "  df['rate'].replace('-', np.nan, inplace=True)  # Replace '-' with NaN\n",
            "<ipython-input-11-66e4095e47e3>:8: FutureWarning: A value is trying to be set on a copy of a DataFrame or Series through chained assignment using an inplace method.\n",
            "The behavior will change in pandas 3.0. This inplace method will never work because the intermediate object on which we are setting values always behaves as a copy.\n",
            "\n",
            "For example, when doing 'df[col].method(value, inplace=True)', try using 'df.method({col: value}, inplace=True)' or df[col] = df[col].method(value) instead, to perform the operation inplace on the original object.\n",
            "\n",
            "\n",
            "  df['rate'].fillna(df['rate'].median(), inplace=True)\n"
          ]
        }
      ],
      "source": [
        "# Cleaning the rate column\n",
        "df['rate'] = df['rate'].astype(str).apply(lambda x: x.split('/')[0])  # Keep the rating part only\n",
        "df['rate'].replace('NEW', np.nan, inplace=True)  # Replace 'NEW' with NaN\n",
        "df['rate'].replace('-', np.nan, inplace=True)  # Replace '-' with NaN\n",
        "df['rate'] = df['rate'].astype(float)  # Convert to float for analysis\n",
        "\n",
        "# Filling missing rates with the median rate\n",
        "df['rate'].fillna(df['rate'].median(), inplace=True)\n",
        "\n",
        "print(df['rate'].head())\n"
      ]
    },
    {
      "cell_type": "code",
      "execution_count": null,
      "metadata": {
        "colab": {
          "base_uri": "https://localhost:8080/"
        },
        "id": "WFLFrlZGJ2iq",
        "outputId": "278b73ec-8327-4419-ca5f-37566f1688c7",
        "collapsed": true
      },
      "outputs": [
        {
          "name": "stdout",
          "output_type": "stream",
          "text": [
            "name                               0\n",
            "online_order                       0\n",
            "book_table                         0\n",
            "rate                               0\n",
            "votes                              0\n",
            "location                           0\n",
            "rest_type                          0\n",
            "dish_liked                     27713\n",
            "cuisines                           0\n",
            "approx_cost(for two people)        0\n",
            "reviews_list                       0\n",
            "dtype: int64\n"
          ]
        }
      ],
      "source": [
        "# Dropping rows with missing values in selected columns\n",
        "df.dropna(subset=['location', 'rest_type', 'cuisines', 'approx_cost(for two people)'], inplace=True)\n",
        "\n",
        "# Verifying that no missing values remain in these columns\n",
        "print(df.isnull().sum())\n"
      ]
    },
    {
      "cell_type": "code",
      "execution_count": null,
      "metadata": {
        "colab": {
          "base_uri": "https://localhost:8080/"
        },
        "id": "H9BI31eCKKV4",
        "outputId": "2c5dfd5a-a02b-4915-e4fa-44e37df4b9e3"
      },
      "outputs": [
        {
          "name": "stdout",
          "output_type": "stream",
          "text": [
            "['name', 'online_order', 'book_table', 'rate', 'votes', 'location', 'rest_type', 'dish_liked', 'cuisines', 'approx_cost(for two people)', 'reviews_list']\n"
          ]
        }
      ],
      "source": [
        "print(df.columns.tolist())\n"
      ]
    },
    {
      "cell_type": "code",
      "execution_count": null,
      "metadata": {
        "colab": {
          "base_uri": "https://localhost:8080/"
        },
        "id": "FccJuxQ6KY6K",
        "outputId": "51223de9-1545-4574-c6e6-7fe7a54a514c",
        "collapsed": true
      },
      "outputs": [
        {
          "name": "stdout",
          "output_type": "stream",
          "text": [
            "Index(['name', 'online_order', 'book_table', 'rate', 'votes', 'cuisines',\n",
            "       'reviews_list'],\n",
            "      dtype='object')\n"
          ]
        }
      ],
      "source": [
        "# Dropping unnecessary columns\n",
        "df = df.drop(['location', 'rest_type', 'dish_liked', 'approx_cost(for two people)'], axis=1)\n",
        "\n",
        "# Displaying the remaining columns\n",
        "print(df.columns)\n"
      ]
    },
    {
      "cell_type": "code",
      "execution_count": null,
      "metadata": {
        "colab": {
          "base_uri": "https://localhost:8080/"
        },
        "id": "e1i6YoVYKiqh",
        "outputId": "1581e9df-9183-4335-eb88-b42b40d44f0c",
        "collapsed": true
      },
      "outputs": [
        {
          "name": "stdout",
          "output_type": "stream",
          "text": [
            "                    name  online_order  book_table  rate  votes  \\\n",
            "0                  Jalsa             1           1   4.1    775   \n",
            "1         Spice Elephant             1           0   4.1    787   \n",
            "2        San Churro Cafe             1           0   3.8    918   \n",
            "3  Addhuri Udupi Bhojana             0           0   3.7     88   \n",
            "4          Grand Village             0           0   3.8    166   \n",
            "\n",
            "                         cuisines  \\\n",
            "0  North Indian, Mughlai, Chinese   \n",
            "1     Chinese, North Indian, Thai   \n",
            "2          Cafe, Mexican, Italian   \n",
            "3      South Indian, North Indian   \n",
            "4        North Indian, Rajasthani   \n",
            "\n",
            "                                        reviews_list  \n",
            "0  [('Rated 4.0', 'RATED\\n  A beautiful place to ...  \n",
            "1  [('Rated 4.0', 'RATED\\n  Had been here for din...  \n",
            "2  [('Rated 3.0', \"RATED\\n  Ambience is not that ...  \n",
            "3  [('Rated 4.0', \"RATED\\n  Great food and proper...  \n",
            "4  [('Rated 4.0', 'RATED\\n  Very good restaurant ...  \n"
          ]
        }
      ],
      "source": [
        "# Encoding categorical columns\n",
        "df['online_order'] = df['online_order'].map({'Yes': 1, 'No': 0})\n",
        "df['book_table'] = df['book_table'].map({'Yes': 1, 'No': 0})\n",
        "\n",
        "# Displaying the first few rows to verify encoding\n",
        "print(df.head())\n"
      ]
    },
    {
      "cell_type": "code",
      "execution_count": null,
      "metadata": {
        "colab": {
          "base_uri": "https://localhost:8080/"
        },
        "id": "CFZw1OuqKpjt",
        "outputId": "5b240216-fb32-4a4d-9614-2490bb225983",
        "collapsed": true
      },
      "outputs": [
        {
          "name": "stdout",
          "output_type": "stream",
          "text": [
            "['North Indian,Mughlai,Chinese' 'Chinese,North Indian,Thai'\n",
            " 'Cafe,Mexican,Italian' 'South Indian,North Indian'\n",
            " 'North Indian,Rajasthani' 'North Indian'\n",
            " 'North Indian,South Indian,Andhra,Chinese' 'Pizza,Cafe,Italian'\n",
            " 'Cafe,Italian,Continental' 'Cafe,Mexican,Italian,Momos,Beverages']\n"
          ]
        }
      ],
      "source": [
        "# Removing extra spaces from cuisine names\n",
        "df['cuisines'] = df['cuisines'].str.replace(', ', ',')\n",
        "\n",
        "# Displaying unique cuisine combinations to check the formatting\n",
        "print(df['cuisines'].unique()[:10])  # Displaying the first 10 unique cuisine combinations\n"
      ]
    },
    {
      "cell_type": "code",
      "execution_count": null,
      "metadata": {
        "colab": {
          "base_uri": "https://localhost:8080/"
        },
        "id": "iNlIK8JAKweT",
        "outputId": "5d7f24a8-e762-491e-c1ea-781f226abd8f",
        "collapsed": true
      },
      "outputs": [
        {
          "name": "stdout",
          "output_type": "stream",
          "text": [
            "0    Rated  RATEDn  A beautiful place to dine inThe...\n",
            "1    Rated  RATEDn  Had been here for dinner with f...\n",
            "2    Rated  RATEDn  Ambience is not that good enoug...\n",
            "3    Rated  RATEDn  Great food and proper Karnataka...\n",
            "4    Rated  RATEDn  Very good restaurant in neighbo...\n",
            "Name: reviews_list, dtype: object\n"
          ]
        }
      ],
      "source": [
        "import re\n",
        "\n",
        "# Cleaning the reviews_list column\n",
        "df['reviews_list'] = df['reviews_list'].apply(lambda x: re.sub(r\"[^a-zA-Z\\s]\", \"\", str(x)))\n",
        "\n",
        "# Displaying a few cleaned reviews to check\n",
        "print(df['reviews_list'].head(5))\n"
      ]
    },
    {
      "cell_type": "code",
      "execution_count": null,
      "metadata": {
        "colab": {
          "base_uri": "https://localhost:8080/"
        },
        "id": "s2hXWTJpK10w",
        "outputId": "9928788e-106f-4b20-e230-575dc6a5a15d",
        "collapsed": true
      },
      "outputs": [
        {
          "name": "stdout",
          "output_type": "stream",
          "text": [
            "0    Rated  RATEDn  A beautiful place to dine inThe...\n",
            "1    Rated  RATEDn  Had been here for dinner with f...\n",
            "2    Rated  RATEDn  Ambience is not that good enoug...\n",
            "3    Rated  RATEDn  Great food and proper Karnataka...\n",
            "4    Rated  RATEDn  Very good restaurant in neighbo...\n",
            "Name: reviews_list, dtype: object\n"
          ]
        }
      ],
      "source": [
        "# Removing repetitive \"Rated RATEDn\" text from reviews\n",
        "df['reviews_list'] = df['reviews_list'].apply(lambda x: re.sub(r\"Rated RATEDn\\s*\", \"\", str(x)))\n",
        "\n",
        "# Displaying the cleaned reviews\n",
        "print(df['reviews_list'].head(5))\n"
      ]
    },
    {
      "cell_type": "code",
      "execution_count": null,
      "metadata": {
        "colab": {
          "base_uri": "https://localhost:8080/"
        },
        "id": "sdkLHzH8LDCw",
        "outputId": "1f85f724-3e92-4a18-a2be-8b6b4a267999",
        "collapsed": true
      },
      "outputs": [
        {
          "name": "stdout",
          "output_type": "stream",
          "text": [
            "                    name  online_order  book_table  rate  votes  \\\n",
            "0                  Jalsa             1           1   4.1    775   \n",
            "1         Spice Elephant             1           0   4.1    787   \n",
            "2        San Churro Cafe             1           0   3.8    918   \n",
            "3  Addhuri Udupi Bhojana             0           0   3.7     88   \n",
            "4          Grand Village             0           0   3.8    166   \n",
            "\n",
            "                                        reviews_list  Afghan  Afghani  \\\n",
            "0  Rated  RATEDn  A beautiful place to dine inThe...       0        0   \n",
            "1  Rated  RATEDn  Had been here for dinner with f...       0        0   \n",
            "2  Rated  RATEDn  Ambience is not that good enoug...       0        0   \n",
            "3  Rated  RATEDn  Great food and proper Karnataka...       0        0   \n",
            "4  Rated  RATEDn  Very good restaurant in neighbo...       0        0   \n",
            "\n",
            "   African  American  ...  Sushi  Tamil  Tea  Tex-Mex  Thai  Tibetan  Turkish  \\\n",
            "0        0         0  ...      0      0    0        0     0        0        0   \n",
            "1        0         0  ...      0      0    0        0     1        0        0   \n",
            "2        0         0  ...      0      0    0        0     0        0        0   \n",
            "3        0         0  ...      0      0    0        0     0        0        0   \n",
            "4        0         0  ...      0      0    0        0     0        0        0   \n",
            "\n",
            "   Vegan  Vietnamese  Wraps  \n",
            "0      0           0      0  \n",
            "1      0           0      0  \n",
            "2      0           0      0  \n",
            "3      0           0      0  \n",
            "4      0           0      0  \n",
            "\n",
            "[5 rows x 113 columns]\n"
          ]
        }
      ],
      "source": [
        "# One-Hot Encoding for cuisines\n",
        "cuisines_dummies = df['cuisines'].str.get_dummies(',')\n",
        "\n",
        "# Concatenating the encoded cuisines with the original dataframe\n",
        "df = pd.concat([df, cuisines_dummies], axis=1)\n",
        "\n",
        "# Dropping the original 'cuisines' column since it is now encoded\n",
        "df = df.drop('cuisines', axis=1)\n",
        "\n",
        "# Displaying the updated dataframe\n",
        "print(df.head())\n"
      ]
    },
    {
      "cell_type": "code",
      "execution_count": null,
      "metadata": {
        "colab": {
          "background_save": true
        },
        "id": "YP8RITHBLJcw",
        "collapsed": true,
        "outputId": "6054f8a6-1e2b-4ae4-80a5-7e49c632b778"
      },
      "outputs": [
        {
          "name": "stdout",
          "output_type": "stream",
          "text": [
            "                    name                                       reviews_list  \\\n",
            "0                  Jalsa  Rated  RATEDn  A beautiful place to dine inThe...   \n",
            "1         Spice Elephant  Rated  RATEDn  Had been here for dinner with f...   \n",
            "2        San Churro Cafe  Rated  RATEDn  Ambience is not that good enoug...   \n",
            "3  Addhuri Udupi Bhojana  Rated  RATEDn  Great food and proper Karnataka...   \n",
            "4          Grand Village  Rated  RATEDn  Very good restaurant in neighbo...   \n",
            "\n",
            "   sentiment  \n",
            "0   0.322417  \n",
            "1   0.183661  \n",
            "2   0.138162  \n",
            "3   0.253288  \n",
            "4   0.405097  \n"
          ]
        }
      ],
      "source": [
        "from textblob import TextBlob\n",
        "\n",
        "# Function to calculate sentiment polarity\n",
        "def get_sentiment(review):\n",
        "    analysis = TextBlob(review)\n",
        "    return analysis.sentiment.polarity\n",
        "\n",
        "# Applying the function to calculate polarity for each review\n",
        "df['sentiment'] = df['reviews_list'].apply(get_sentiment)\n",
        "\n",
        "# Displaying the updated DataFrame with sentiment scores\n",
        "print(df[['name', 'reviews_list', 'sentiment']].head())\n"
      ]
    },
    {
      "cell_type": "code",
      "execution_count": 23,
      "metadata": {
        "id": "iFfC0AAnLRGA",
        "colab": {
          "base_uri": "https://localhost:8080/",
          "height": 487
        },
        "outputId": "c7dd684e-073c-4c4d-e4f8-501243c7132d"
      },
      "outputs": [
        {
          "output_type": "display_data",
          "data": {
            "text/plain": [
              "<Figure size 800x500 with 1 Axes>"
            ],
            "image/png": "[encoded data removed]"
          },
          "metadata": {}
        }
      ],
      "source": [
        "import seaborn as sns\n",
        "import matplotlib.pyplot as plt\n",
        "\n",
        "plt.figure(figsize=(8, 5))\n",
        "sns.histplot(df['sentiment'], bins=30, kde=True)\n",
        "plt.title('Sentiment Distribution')\n",
        "plt.xlabel('Sentiment Polarity')\n",
        "plt.ylabel('Frequency')\n",
        "plt.show()\n"
      ]
    },
    {
      "cell_type": "code",
      "source": [
        "print(\"Top 5 Positive Reviews:\")\n",
        "print(df[['name', 'reviews_list', 'sentiment']].sort_values(by='sentiment', ascending=False).head(5))\n",
        "\n",
        "print(\"\\nTop 5 Negative Reviews:\")\n",
        "print(df[['name', 'reviews_list', 'sentiment']].sort_values(by='sentiment').head(5))\n"
      ],
      "metadata": {
        "colab": {
          "base_uri": "https://localhost:8080/"
        },
        "collapsed": true,
        "id": "g1pBhTzgQpLk",
        "outputId": "552e05a4-3b53-4468-ac58-9eb1f449c06a"
      },
      "execution_count": 24,
      "outputs": [
        {
          "output_type": "stream",
          "name": "stdout",
          "text": [
            "Top 5 Positive Reviews:\n",
            "                        name  \\\n",
            "41741  Aashirvaad Restaurant   \n",
            "28837            Kerala Mess   \n",
            "9623       Coal Grill & Cafe   \n",
            "10142            Kerala Mess   \n",
            "42931               La Mirch   \n",
            "\n",
            "                                            reviews_list  sentiment  \n",
            "41741  Rated  RATEDn  Just now I order from this plac...        1.0  \n",
            "28837  Rated  RATEDn  Awesome biriyani and gulab jamu...        1.0  \n",
            "9623                 Rated  RATEDn  Awesome Arabian food        1.0  \n",
            "10142  Rated  RATEDn  Awesome biriyani and gulab jamu...        1.0  \n",
            "42931  Rated  RATEDn  Didnt have the option for a  so...        1.0  \n",
            "\n",
            "Top 5 Negative Reviews:\n",
            "                  name                                       reviews_list  \\\n",
            "35895    Ghar Ki Rasoi  Rated  RATEDn  Please dont order paneer roll f...   \n",
            "20573    Ghar Ki Rasoi  Rated  RATEDn  Please dont order paneer roll f...   \n",
            "9883     Ghar Ki Rasoi  Rated  RATEDn  Please dont order paneer roll f...   \n",
            "49869  Mont Blanc Cafe  Rated  RATEDn  I went by the rating and ordere...   \n",
            "48880  Mont Blanc Cafe  Rated  RATEDn  I went by the rating and ordere...   \n",
            "\n",
            "       sentiment  \n",
            "35895       -1.0  \n",
            "20573       -1.0  \n",
            "9883        -1.0  \n",
            "49869       -1.0  \n",
            "48880       -1.0  \n"
          ]
        }
      ]
    },
    {
      "cell_type": "code",
      "source": [
        "avg_sentiment = df.groupby('name')['sentiment'].mean().sort_values(ascending=False)\n",
        "print(\"Average Sentiment of Restaurants:\")\n",
        "print(avg_sentiment.head(10))\n"
      ],
      "metadata": {
        "colab": {
          "base_uri": "https://localhost:8080/"
        },
        "id": "c4EL75R-QsBo",
        "outputId": "7ee07ca2-c8c9-4490-a6a1-3b8cb07bff1c"
      },
      "execution_count": 25,
      "outputs": [
        {
          "output_type": "stream",
          "name": "stdout",
          "text": [
            "Average Sentiment of Restaurants:\n",
            "name\n",
            "Aashirvaad Restaurant    1.000\n",
            "TGS Retails              1.000\n",
            "Guntur Royal Dine        1.000\n",
            "Fresh Code               1.000\n",
            "Bread & Better           1.000\n",
            "Coal Grill & Cafe        1.000\n",
            "Cake Ghar                0.910\n",
            "Seven Star               0.900\n",
            "Vijayalaxmi Veg          0.896\n",
            "S.K Green Gardens        0.880\n",
            "Name: sentiment, dtype: float64\n"
          ]
        }
      ]
    },
    {
      "cell_type": "code",
      "source": [
        "print(df.columns)\n"
      ],
      "metadata": {
        "colab": {
          "base_uri": "https://localhost:8080/"
        },
        "id": "w6VwbQ0lRg8q",
        "outputId": "911fc88d-5b29-4840-d358-f8c829e33f69"
      },
      "execution_count": 27,
      "outputs": [
        {
          "output_type": "stream",
          "name": "stdout",
          "text": [
            "Index(['name', 'online_order', 'book_table', 'rate', 'votes', 'reviews_list',\n",
            "       'Afghan', 'Afghani', 'African', 'American',\n",
            "       ...\n",
            "       'Tamil', 'Tea', 'Tex-Mex', 'Thai', 'Tibetan', 'Turkish', 'Vegan',\n",
            "       'Vietnamese', 'Wraps', 'sentiment'],\n",
            "      dtype='object', length=114)\n"
          ]
        }
      ]
    },
    {
      "cell_type": "code",
      "source": [
        "from sklearn.feature_extraction.text import TfidfVectorizer\n",
        "\n",
        "# Vectorizing the cleaned reviews using TF-IDF\n",
        "tfidf = TfidfVectorizer(max_features=5000)  # You can adjust the number of features\n",
        "X = tfidf.fit_transform(df['reviews_list']).toarray()\n",
        "y = np.where(df['sentiment'] > 0, 1, 0)  # Convert sentiment to binary (1 for positive, 0 for negative)\n",
        "\n",
        "print(f\"Shape of X: {X.shape}\")\n",
        "print(f\"Shape of y: {y.shape}\")\n"
      ],
      "metadata": {
        "colab": {
          "base_uri": "https://localhost:8080/"
        },
        "id": "u7k4actaRp_h",
        "outputId": "011c0ae5-119d-4d69-e8a6-68f4b73cbeb2"
      },
      "execution_count": 28,
      "outputs": [
        {
          "output_type": "stream",
          "name": "stdout",
          "text": [
            "Shape of X: (51148, 5000)\n",
            "Shape of y: (51148,)\n"
          ]
        }
      ]
    },
    {
      "cell_type": "code",
      "source": [
        "from sklearn.model_selection import train_test_split\n",
        "\n",
        "X_train, X_test, y_train, y_test = train_test_split(X, y, test_size=0.2, random_state=42)\n",
        "\n",
        "print(\"Training set size:\", X_train.shape[0])\n",
        "print(\"Testing set size:\", X_test.shape[0])\n"
      ],
      "metadata": {
        "colab": {
          "base_uri": "https://localhost:8080/"
        },
        "id": "So_kchyZTD67",
        "outputId": "32ea9657-d0c1-4593-efef-2f1803767615"
      },
      "execution_count": 29,
      "outputs": [
        {
          "output_type": "stream",
          "name": "stdout",
          "text": [
            "Training set size: 40918\n",
            "Testing set size: 10230\n"
          ]
        }
      ]
    },
    {
      "cell_type": "code",
      "source": [
        "from sklearn.linear_model import LogisticRegression\n",
        "from sklearn.metrics import accuracy_score, classification_report, confusion_matrix\n",
        "\n",
        "# Initializing the Logistic Regression model\n",
        "model = LogisticRegression(max_iter=200)\n",
        "\n",
        "# Training the model\n",
        "model.fit(X_train, y_train)\n",
        "\n",
        "# Predicting on the test set\n",
        "y_pred = model.predict(X_test)\n",
        "\n",
        "# Evaluating the model\n",
        "accuracy = accuracy_score(y_test, y_pred)\n",
        "print(f\"Accuracy: {accuracy * 100:.2f}%\")\n",
        "\n",
        "print(\"\\nClassification Report:\")\n",
        "print(classification_report(y_test, y_pred))\n",
        "\n",
        "print(\"\\nConfusion Matrix:\")\n",
        "print(confusion_matrix(y_test, y_pred))\n"
      ],
      "metadata": {
        "colab": {
          "base_uri": "https://localhost:8080/"
        },
        "id": "tbWpW6_4TYj8",
        "outputId": "1f58b992-8ed6-4a8d-d70a-d0ac903a4c17"
      },
      "execution_count": 30,
      "outputs": [
        {
          "output_type": "stream",
          "name": "stdout",
          "text": [
            "Accuracy: 97.13%\n",
            "\n",
            "Classification Report:\n",
            "              precision    recall  f1-score   support\n",
            "\n",
            "           0       0.96      0.92      0.94      2417\n",
            "           1       0.97      0.99      0.98      7813\n",
            "\n",
            "    accuracy                           0.97     10230\n",
            "   macro avg       0.97      0.95      0.96     10230\n",
            "weighted avg       0.97      0.97      0.97     10230\n",
            "\n",
            "\n",
            "Confusion Matrix:\n",
            "[[2216  201]\n",
            " [  93 7720]]\n"
          ]
        }
      ]
    }
  ],
  "metadata": {
    "colab": {
      "provenance": []
    },
    "kernelspec": {
      "display_name": "Python 3",
      "name": "python3"
    },
    "language_info": {
      "name": "python"
    }
  },
  "nbformat": 4,
  "nbformat_minor": 0
}